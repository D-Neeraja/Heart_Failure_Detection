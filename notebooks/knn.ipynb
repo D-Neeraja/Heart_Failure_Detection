{
 "cells": [
  {
   "cell_type": "markdown",
   "id": "b69b163b-f33f-412b-9ef8-3d1d90a5ca4e",
   "metadata": {},
   "source": [
    "# Modelling : K Nearest Neighbours "
   ]
  },
  {
   "cell_type": "code",
   "execution_count": 2,
   "id": "9a46bed6-fa96-447a-833d-b8c3f645d54a",
   "metadata": {},
   "outputs": [],
   "source": [
    "import pandas as pd\n",
    "import numpy as np\n",
    "import matplotlib.pyplot as plt\n",
    "import warnings\n",
    "warnings.simplefilter(\"ignore\")"
   ]
  },
  {
   "cell_type": "code",
   "execution_count": 6,
   "id": "87ef9735-6ca9-4c8b-a9b5-d647a98b0eb0",
   "metadata": {},
   "outputs": [
    {
     "data": {
      "text/html": [
       "<div>\n",
       "<style scoped>\n",
       "    .dataframe tbody tr th:only-of-type {\n",
       "        vertical-align: middle;\n",
       "    }\n",
       "\n",
       "    .dataframe tbody tr th {\n",
       "        vertical-align: top;\n",
       "    }\n",
       "\n",
       "    .dataframe thead th {\n",
       "        text-align: right;\n",
       "    }\n",
       "</style>\n",
       "<table border=\"1\" class=\"dataframe\">\n",
       "  <thead>\n",
       "    <tr style=\"text-align: right;\">\n",
       "      <th></th>\n",
       "      <th>age</th>\n",
       "      <th>anaemia</th>\n",
       "      <th>creatinine_phosphokinase</th>\n",
       "      <th>diabetes</th>\n",
       "      <th>ejection_fraction</th>\n",
       "      <th>high_blood_pressure</th>\n",
       "      <th>platelets</th>\n",
       "      <th>serum_creatinine</th>\n",
       "      <th>serum_sodium</th>\n",
       "      <th>sex</th>\n",
       "      <th>smoking</th>\n",
       "      <th>time</th>\n",
       "      <th>DEATH_EVENT</th>\n",
       "    </tr>\n",
       "  </thead>\n",
       "  <tbody>\n",
       "    <tr>\n",
       "      <th>0</th>\n",
       "      <td>75</td>\n",
       "      <td>0</td>\n",
       "      <td>582</td>\n",
       "      <td>0</td>\n",
       "      <td>20</td>\n",
       "      <td>1</td>\n",
       "      <td>265000.00</td>\n",
       "      <td>1.9</td>\n",
       "      <td>130</td>\n",
       "      <td>1</td>\n",
       "      <td>0</td>\n",
       "      <td>4</td>\n",
       "      <td>1</td>\n",
       "    </tr>\n",
       "    <tr>\n",
       "      <th>1</th>\n",
       "      <td>55</td>\n",
       "      <td>0</td>\n",
       "      <td>7861</td>\n",
       "      <td>0</td>\n",
       "      <td>38</td>\n",
       "      <td>0</td>\n",
       "      <td>263358.03</td>\n",
       "      <td>1.1</td>\n",
       "      <td>136</td>\n",
       "      <td>1</td>\n",
       "      <td>0</td>\n",
       "      <td>6</td>\n",
       "      <td>1</td>\n",
       "    </tr>\n",
       "    <tr>\n",
       "      <th>2</th>\n",
       "      <td>65</td>\n",
       "      <td>0</td>\n",
       "      <td>146</td>\n",
       "      <td>0</td>\n",
       "      <td>20</td>\n",
       "      <td>0</td>\n",
       "      <td>162000.00</td>\n",
       "      <td>1.3</td>\n",
       "      <td>129</td>\n",
       "      <td>1</td>\n",
       "      <td>1</td>\n",
       "      <td>7</td>\n",
       "      <td>1</td>\n",
       "    </tr>\n",
       "    <tr>\n",
       "      <th>3</th>\n",
       "      <td>50</td>\n",
       "      <td>1</td>\n",
       "      <td>111</td>\n",
       "      <td>0</td>\n",
       "      <td>20</td>\n",
       "      <td>0</td>\n",
       "      <td>210000.00</td>\n",
       "      <td>1.9</td>\n",
       "      <td>137</td>\n",
       "      <td>1</td>\n",
       "      <td>0</td>\n",
       "      <td>7</td>\n",
       "      <td>1</td>\n",
       "    </tr>\n",
       "    <tr>\n",
       "      <th>4</th>\n",
       "      <td>65</td>\n",
       "      <td>1</td>\n",
       "      <td>160</td>\n",
       "      <td>1</td>\n",
       "      <td>20</td>\n",
       "      <td>0</td>\n",
       "      <td>327000.00</td>\n",
       "      <td>2.7</td>\n",
       "      <td>116</td>\n",
       "      <td>0</td>\n",
       "      <td>0</td>\n",
       "      <td>8</td>\n",
       "      <td>1</td>\n",
       "    </tr>\n",
       "  </tbody>\n",
       "</table>\n",
       "</div>"
      ],
      "text/plain": [
       "   age  anaemia  creatinine_phosphokinase  diabetes  ejection_fraction  \\\n",
       "0   75        0                       582         0                 20   \n",
       "1   55        0                      7861         0                 38   \n",
       "2   65        0                       146         0                 20   \n",
       "3   50        1                       111         0                 20   \n",
       "4   65        1                       160         1                 20   \n",
       "\n",
       "   high_blood_pressure  platelets  serum_creatinine  serum_sodium  sex  \\\n",
       "0                    1  265000.00               1.9           130    1   \n",
       "1                    0  263358.03               1.1           136    1   \n",
       "2                    0  162000.00               1.3           129    1   \n",
       "3                    0  210000.00               1.9           137    1   \n",
       "4                    0  327000.00               2.7           116    0   \n",
       "\n",
       "   smoking  time  DEATH_EVENT  \n",
       "0        0     4            1  \n",
       "1        0     6            1  \n",
       "2        1     7            1  \n",
       "3        0     7            1  \n",
       "4        0     8            1  "
      ]
     },
     "execution_count": 6,
     "metadata": {},
     "output_type": "execute_result"
    }
   ],
   "source": [
    "data = pd.read_csv('cleaned_data.csv')\n",
    "data.head()"
   ]
  },
  {
   "cell_type": "code",
   "execution_count": 14,
   "id": "7a732b97-c3d9-45dd-a17b-eea648307c03",
   "metadata": {},
   "outputs": [],
   "source": [
    "X = data.iloc[: , :-1]\n",
    "y = data.iloc[: , -1]"
   ]
  },
  {
   "cell_type": "markdown",
   "id": "b916df4b-aef8-4891-bbfe-899765c4a37b",
   "metadata": {},
   "source": [
    "**Using same random state as logistic regression**"
   ]
  },
  {
   "cell_type": "code",
   "execution_count": 127,
   "id": "f072883d-77d7-447e-a23d-7ab0519102ba",
   "metadata": {},
   "outputs": [],
   "source": [
    "from sklearn.model_selection import train_test_split\n",
    "X_train , X_test , y_train , y_test = train_test_split(X,y,random_state = 12 , train_size = 0.8)"
   ]
  },
  {
   "cell_type": "code",
   "execution_count": 129,
   "id": "2fd1d7f8-e59f-4dda-a15b-7eafffec2e21",
   "metadata": {},
   "outputs": [],
   "source": [
    "from sklearn.neighbors import KNeighborsClassifier\n",
    "from sklearn.model_selection import GridSearchCV"
   ]
  },
  {
   "cell_type": "markdown",
   "id": "dfe61840-bb40-4566-ae02-3def1e5ae18b",
   "metadata": {},
   "source": [
    "**BASELINE MODEL**"
   ]
  },
  {
   "cell_type": "code",
   "execution_count": 132,
   "id": "d77a01e5-78f1-4a41-b580-9242b6b9ec4b",
   "metadata": {},
   "outputs": [
    {
     "name": "stdout",
     "output_type": "stream",
     "text": [
      "Train Accuracy :  0.7615062761506276\n",
      "Test Accuracy :  0.6333333333333333\n",
      "CV_Score :  0.6069148936170212\n"
     ]
    }
   ],
   "source": [
    "from sklearn.metrics import accuracy_score \n",
    "from sklearn.model_selection import cross_val_score\n",
    "knn = KNeighborsClassifier()\n",
    "knn.fit(X_train , y_train)\n",
    "\n",
    "Xtrain_pred = knn.predict(X_train)\n",
    "print(\"Train Accuracy : \" , accuracy_score(y_train , Xtrain_pred))\n",
    "\n",
    "Xtest_pred = knn.predict(X_test)\n",
    "print(\"Test Accuracy : \" , accuracy_score(y_test , Xtest_pred))\n",
    "\n",
    "print(\"CV_Score : \" ,cross_val_score( knn , X_train , y_train , cv = 5 , scoring = 'accuracy' ).mean())"
   ]
  },
  {
   "cell_type": "markdown",
   "id": "c6a3ae85-9da6-47a5-9e78-6c55c556780e",
   "metadata": {},
   "source": [
    "**Fine tune model**"
   ]
  },
  {
   "cell_type": "code",
   "execution_count": 156,
   "id": "674b5051-4f4c-489f-89e0-e6437798472b",
   "metadata": {},
   "outputs": [
    {
     "data": {
      "text/plain": [
       "{'n_neighbors': 32}"
      ]
     },
     "execution_count": 156,
     "metadata": {},
     "output_type": "execute_result"
    }
   ],
   "source": [
    "estimator = KNeighborsClassifier()\n",
    "params_grid = {'n_neighbors' : list(range(1,50))}\n",
    "\n",
    "knn_model = GridSearchCV(estimator , params_grid , cv = 5 , scoring = 'accuracy')\n",
    "knn_model.fit(X_train , y_train)\n",
    "knn_model.best_params_"
   ]
  },
  {
   "cell_type": "markdown",
   "id": "03e88caf-20b7-4ecb-9e5d-a49d1b566cb5",
   "metadata": {},
   "source": [
    "**Evaluation**"
   ]
  },
  {
   "cell_type": "code",
   "execution_count": 143,
   "id": "fea88fda-3a89-4bc1-b838-f8204591f8b9",
   "metadata": {},
   "outputs": [
    {
     "name": "stdout",
     "output_type": "stream",
     "text": [
      "Train Accuracy :  0.6861924686192469\n",
      "Test Accuracy :  0.65\n",
      "CV_Score :  0.6861702127659575\n"
     ]
    }
   ],
   "source": [
    "from sklearn.metrics import accuracy_score \n",
    "from sklearn.model_selection import cross_val_score\n",
    "knn = KNeighborsClassifier(n_neighbors=32)\n",
    "knn.fit(X_train , y_train)\n",
    "\n",
    "Xtrain_pred = knn.predict(X_train)\n",
    "print(\"Train Accuracy : \" , accuracy_score(y_train , Xtrain_pred))\n",
    "\n",
    "Xtest_pred = knn.predict(X_test)\n",
    "print(\"Test Accuracy : \" , accuracy_score(y_test , Xtest_pred))\n",
    "\n",
    "print(\"CV_Score : \" ,cross_val_score( knn , X_train , y_train , cv = 5 , scoring = 'accuracy' ).mean())"
   ]
  },
  {
   "cell_type": "markdown",
   "id": "70947427-fff7-45f5-b6b6-b4d8d5f67554",
   "metadata": {},
   "source": [
    "**Confusion Matrix**"
   ]
  },
  {
   "cell_type": "code",
   "execution_count": 146,
   "id": "2a53a195-3bf5-46eb-9fe0-6872f55128a8",
   "metadata": {},
   "outputs": [
    {
     "data": {
      "image/png": "[encoded data removed]",
      "text/plain": [
       "<Figure size 640x480 with 2 Axes>"
      ]
     },
     "metadata": {},
     "output_type": "display_data"
    }
   ],
   "source": [
    "from sklearn.metrics import confusion_matrix , ConfusionMatrixDisplay\n",
    "cm = confusion_matrix(y_test , Xtest_pred)\n",
    "ConfusionMatrixDisplay(cm , display_labels = [0,1]).plot()\n",
    "plt.show()"
   ]
  },
  {
   "cell_type": "markdown",
   "id": "b9e5773d-6f46-4dfa-9a05-c108e73640b7",
   "metadata": {},
   "source": [
    "**ROC CURVE**"
   ]
  },
  {
   "cell_type": "code",
   "execution_count": 151,
   "id": "9577a388-ce26-4f93-a1c4-03e689ea00b1",
   "metadata": {},
   "outputs": [
    {
     "data": {
      "image/png": "[encoded data removed]",
      "text/plain": [
       "<Figure size 640x480 with 1 Axes>"
      ]
     },
     "metadata": {},
     "output_type": "display_data"
    }
   ],
   "source": [
    "from sklearn.metrics import roc_curve , auc , RocCurveDisplay\n",
    "fpr , tpr , threshold = roc_curve(y_test , Xtest_pred)\n",
    "roc_auc = auc(fpr , tpr)\n",
    "RocCurveDisplay(fpr = fpr , tpr = tpr , roc_auc  = roc_auc).plot()\n",
    "plt.show()"
   ]
  },
  {
   "cell_type": "markdown",
   "id": "f56e7619-1347-4fff-ae62-a21e7b2ac336",
   "metadata": {},
   "source": [
    "**Trying**"
   ]
  },
  {
   "cell_type": "code",
   "execution_count": 158,
   "id": "f63c5a90-782f-4dbe-aac1-9b5e68ad5111",
   "metadata": {},
   "outputs": [
    {
     "ename": "TypeError",
     "evalue": "list indices must be integers or slices, not str",
     "output_type": "error",
     "traceback": [
      "\u001b[0;31m---------------------------------------------------------------------------\u001b[0m",
      "\u001b[0;31mTypeError\u001b[0m                                 Traceback (most recent call last)",
      "Cell \u001b[0;32mIn[158], line 22\u001b[0m\n\u001b[1;32m     18\u001b[0m     test\u001b[38;5;241m.\u001b[39mappend(accuracy_score(y_test , Xtest_pred))\n\u001b[1;32m     20\u001b[0m     cv\u001b[38;5;241m.\u001b[39mappend(cross_val_score( knn , X_train , y_train , cv \u001b[38;5;241m=\u001b[39m \u001b[38;5;241m5\u001b[39m , scoring \u001b[38;5;241m=\u001b[39m \u001b[38;5;124m'\u001b[39m\u001b[38;5;124maccuracy\u001b[39m\u001b[38;5;124m'\u001b[39m )\u001b[38;5;241m.\u001b[39mmean())\n\u001b[0;32m---> 22\u001b[0m acc \u001b[38;5;241m=\u001b[39m pd\u001b[38;5;241m.\u001b[39mDataFrame({\u001b[38;5;124m'\u001b[39m\u001b[38;5;124mbest_parameter\u001b[39m\u001b[38;5;124m'\u001b[39m : best_param[\u001b[38;5;124m'\u001b[39m\u001b[38;5;124mn_neighbors\u001b[39m\u001b[38;5;124m'\u001b[39m] ,\u001b[38;5;124m'\u001b[39m\u001b[38;5;124mTrain\u001b[39m\u001b[38;5;124m'\u001b[39m : train , \u001b[38;5;124m'\u001b[39m\u001b[38;5;124mTest\u001b[39m\u001b[38;5;124m'\u001b[39m : test , \u001b[38;5;124m'\u001b[39m\u001b[38;5;124mCV_Score\u001b[39m\u001b[38;5;124m'\u001b[39m : cv})\n",
      "\u001b[0;31mTypeError\u001b[0m: list indices must be integers or slices, not str"
     ]
    }
   ],
   "source": [
    "best_param ,train , test , cv = [] , [] , [] , []\n",
    "for r in range(1,50):\n",
    "    X_train , X_test , y_train , y_test = train_test_split(X,y,random_state = r , train_size = 0.8)\n",
    "    estimator = KNeighborsClassifier()\n",
    "    params_grid = {'n_neighbors' : list(range(1,50))}\n",
    "\n",
    "    knn_model = GridSearchCV(estimator , params_grid , cv = 5 , scoring = 'accuracy')\n",
    "    knn_model.fit(X_train , y_train)\n",
    "    best_param.append(knn_model.best_params_)\n",
    "\n",
    "    knn = KNeighborsClassifier(n_neighbors=32)\n",
    "    knn.fit(X_train , y_train)\n",
    "\n",
    "    Xtrain_pred = knn.predict(X_train)\n",
    "    train.append(accuracy_score(y_train , Xtrain_pred))\n",
    "\n",
    "    Xtest_pred = knn.predict(X_test)\n",
    "    test.append(accuracy_score(y_test , Xtest_pred))\n",
    "\n",
    "    cv.append(cross_val_score( knn , X_train , y_train , cv = 5 , scoring = 'accuracy' ).mean())\n"
   ]
  },
  {
   "cell_type": "code",
   "execution_count": 174,
   "id": "c09ad870-dcb5-423e-8cfe-08635b3b770a",
   "metadata": {},
   "outputs": [],
   "source": [
    "acc = pd.DataFrame({'Best param' : best_param , 'Train' : train , 'Test' : test , 'CV' : cv})"
   ]
  },
  {
   "cell_type": "code",
   "execution_count": 182,
   "id": "c8d454db-a93f-4bd1-902c-acae2733d1c0",
   "metadata": {},
   "outputs": [
    {
     "data": {
      "text/html": [
       "<div>\n",
       "<style scoped>\n",
       "    .dataframe tbody tr th:only-of-type {\n",
       "        vertical-align: middle;\n",
       "    }\n",
       "\n",
       "    .dataframe tbody tr th {\n",
       "        vertical-align: top;\n",
       "    }\n",
       "\n",
       "    .dataframe thead th {\n",
       "        text-align: right;\n",
       "    }\n",
       "</style>\n",
       "<table border=\"1\" class=\"dataframe\">\n",
       "  <thead>\n",
       "    <tr style=\"text-align: right;\">\n",
       "      <th></th>\n",
       "      <th>Best param</th>\n",
       "      <th>Train</th>\n",
       "      <th>Test</th>\n",
       "      <th>CV</th>\n",
       "    </tr>\n",
       "  </thead>\n",
       "  <tbody>\n",
       "    <tr>\n",
       "      <th>2</th>\n",
       "      <td>24</td>\n",
       "      <td>0.682008</td>\n",
       "      <td>0.666667</td>\n",
       "      <td>0.682004</td>\n",
       "    </tr>\n",
       "    <tr>\n",
       "      <th>3</th>\n",
       "      <td>12</td>\n",
       "      <td>0.673640</td>\n",
       "      <td>0.700000</td>\n",
       "      <td>0.669504</td>\n",
       "    </tr>\n",
       "    <tr>\n",
       "      <th>11</th>\n",
       "      <td>32</td>\n",
       "      <td>0.686192</td>\n",
       "      <td>0.650000</td>\n",
       "      <td>0.686170</td>\n",
       "    </tr>\n",
       "    <tr>\n",
       "      <th>12</th>\n",
       "      <td>15</td>\n",
       "      <td>0.673640</td>\n",
       "      <td>0.700000</td>\n",
       "      <td>0.673670</td>\n",
       "    </tr>\n",
       "    <tr>\n",
       "      <th>19</th>\n",
       "      <td>16</td>\n",
       "      <td>0.677824</td>\n",
       "      <td>0.683333</td>\n",
       "      <td>0.677837</td>\n",
       "    </tr>\n",
       "    <tr>\n",
       "      <th>22</th>\n",
       "      <td>14</td>\n",
       "      <td>0.673640</td>\n",
       "      <td>0.700000</td>\n",
       "      <td>0.673670</td>\n",
       "    </tr>\n",
       "    <tr>\n",
       "      <th>24</th>\n",
       "      <td>22</td>\n",
       "      <td>0.686192</td>\n",
       "      <td>0.650000</td>\n",
       "      <td>0.686170</td>\n",
       "    </tr>\n",
       "    <tr>\n",
       "      <th>25</th>\n",
       "      <td>22</td>\n",
       "      <td>0.677824</td>\n",
       "      <td>0.683333</td>\n",
       "      <td>0.677837</td>\n",
       "    </tr>\n",
       "    <tr>\n",
       "      <th>26</th>\n",
       "      <td>4</td>\n",
       "      <td>0.682008</td>\n",
       "      <td>0.666667</td>\n",
       "      <td>0.682004</td>\n",
       "    </tr>\n",
       "    <tr>\n",
       "      <th>27</th>\n",
       "      <td>17</td>\n",
       "      <td>0.673640</td>\n",
       "      <td>0.700000</td>\n",
       "      <td>0.673670</td>\n",
       "    </tr>\n",
       "    <tr>\n",
       "      <th>28</th>\n",
       "      <td>14</td>\n",
       "      <td>0.682008</td>\n",
       "      <td>0.666667</td>\n",
       "      <td>0.682004</td>\n",
       "    </tr>\n",
       "    <tr>\n",
       "      <th>29</th>\n",
       "      <td>26</td>\n",
       "      <td>0.686192</td>\n",
       "      <td>0.650000</td>\n",
       "      <td>0.686170</td>\n",
       "    </tr>\n",
       "    <tr>\n",
       "      <th>31</th>\n",
       "      <td>21</td>\n",
       "      <td>0.677824</td>\n",
       "      <td>0.683333</td>\n",
       "      <td>0.677837</td>\n",
       "    </tr>\n",
       "    <tr>\n",
       "      <th>32</th>\n",
       "      <td>18</td>\n",
       "      <td>0.673640</td>\n",
       "      <td>0.700000</td>\n",
       "      <td>0.673670</td>\n",
       "    </tr>\n",
       "    <tr>\n",
       "      <th>34</th>\n",
       "      <td>16</td>\n",
       "      <td>0.677824</td>\n",
       "      <td>0.683333</td>\n",
       "      <td>0.677837</td>\n",
       "    </tr>\n",
       "    <tr>\n",
       "      <th>35</th>\n",
       "      <td>20</td>\n",
       "      <td>0.677824</td>\n",
       "      <td>0.683333</td>\n",
       "      <td>0.677837</td>\n",
       "    </tr>\n",
       "    <tr>\n",
       "      <th>36</th>\n",
       "      <td>14</td>\n",
       "      <td>0.682008</td>\n",
       "      <td>0.666667</td>\n",
       "      <td>0.682004</td>\n",
       "    </tr>\n",
       "    <tr>\n",
       "      <th>38</th>\n",
       "      <td>16</td>\n",
       "      <td>0.677824</td>\n",
       "      <td>0.683333</td>\n",
       "      <td>0.677837</td>\n",
       "    </tr>\n",
       "    <tr>\n",
       "      <th>39</th>\n",
       "      <td>23</td>\n",
       "      <td>0.682008</td>\n",
       "      <td>0.666667</td>\n",
       "      <td>0.682004</td>\n",
       "    </tr>\n",
       "    <tr>\n",
       "      <th>47</th>\n",
       "      <td>16</td>\n",
       "      <td>0.686192</td>\n",
       "      <td>0.650000</td>\n",
       "      <td>0.686170</td>\n",
       "    </tr>\n",
       "  </tbody>\n",
       "</table>\n",
       "</div>"
      ],
      "text/plain": [
       "    Best param     Train      Test        CV\n",
       "2           24  0.682008  0.666667  0.682004\n",
       "3           12  0.673640  0.700000  0.669504\n",
       "11          32  0.686192  0.650000  0.686170\n",
       "12          15  0.673640  0.700000  0.673670\n",
       "19          16  0.677824  0.683333  0.677837\n",
       "22          14  0.673640  0.700000  0.673670\n",
       "24          22  0.686192  0.650000  0.686170\n",
       "25          22  0.677824  0.683333  0.677837\n",
       "26           4  0.682008  0.666667  0.682004\n",
       "27          17  0.673640  0.700000  0.673670\n",
       "28          14  0.682008  0.666667  0.682004\n",
       "29          26  0.686192  0.650000  0.686170\n",
       "31          21  0.677824  0.683333  0.677837\n",
       "32          18  0.673640  0.700000  0.673670\n",
       "34          16  0.677824  0.683333  0.677837\n",
       "35          20  0.677824  0.683333  0.677837\n",
       "36          14  0.682008  0.666667  0.682004\n",
       "38          16  0.677824  0.683333  0.677837\n",
       "39          23  0.682008  0.666667  0.682004\n",
       "47          16  0.686192  0.650000  0.686170"
      ]
     },
     "execution_count": 182,
     "metadata": {},
     "output_type": "execute_result"
    }
   ],
   "source": [
    "acc[(abs(acc['Train'] - acc['Test']) <= 0.04) & (abs(acc['Train'] - acc['CV']) <= 0.04) & (abs(acc['CV'] - acc['Test']) <= 0.04)]"
   ]
  },
  {
   "cell_type": "code",
   "execution_count": null,
   "id": "97f151b3-3007-4b3c-929c-851e25c5eba0",
   "metadata": {},
   "outputs": [],
   "source": []
  }
 ],
 "metadata": {
  "kernelspec": {
   "display_name": "Python 3 (ipykernel)",
   "language": "python",
   "name": "python3"
  },
  "language_info": {
   "codemirror_mode": {
    "name": "ipython",
    "version": 3
   },
   "file_extension": ".py",
   "mimetype": "text/x-python",
   "name": "python",
   "nbconvert_exporter": "python",
   "pygments_lexer": "ipython3",
   "version": "3.12.4"
  }
 },
 "nbformat": 4,
 "nbformat_minor": 5
}
