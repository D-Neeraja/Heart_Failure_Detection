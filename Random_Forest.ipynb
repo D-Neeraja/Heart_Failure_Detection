{
 "cells": [
  {
   "cell_type": "markdown",
   "id": "cda4ff23-fa95-45dc-ab94-a9643b432d98",
   "metadata": {},
   "source": [
    "# Modelling : Random Forest (Boosting Technique)"
   ]
  },
  {
   "cell_type": "code",
   "execution_count": 6,
   "id": "9050f6c7-c040-46b9-8924-219a13f5d30d",
   "metadata": {},
   "outputs": [],
   "source": [
    "import numpy as np\n",
    "import pandas as pd\n",
    "import matplotlib.pyplot as plt\n",
    "import warnings\n",
    "warnings.simplefilter('ignore')"
   ]
  },
  {
   "cell_type": "code",
   "execution_count": 8,
   "id": "cbf3f506-cf6a-44a0-a535-6d3c201875cc",
   "metadata": {},
   "outputs": [
    {
     "data": {
      "text/html": [
       "<div>\n",
       "<style scoped>\n",
       "    .dataframe tbody tr th:only-of-type {\n",
       "        vertical-align: middle;\n",
       "    }\n",
       "\n",
       "    .dataframe tbody tr th {\n",
       "        vertical-align: top;\n",
       "    }\n",
       "\n",
       "    .dataframe thead th {\n",
       "        text-align: right;\n",
       "    }\n",
       "</style>\n",
       "<table border=\"1\" class=\"dataframe\">\n",
       "  <thead>\n",
       "    <tr style=\"text-align: right;\">\n",
       "      <th></th>\n",
       "      <th>age</th>\n",
       "      <th>anaemia</th>\n",
       "      <th>creatinine_phosphokinase</th>\n",
       "      <th>diabetes</th>\n",
       "      <th>ejection_fraction</th>\n",
       "      <th>high_blood_pressure</th>\n",
       "      <th>platelets</th>\n",
       "      <th>serum_creatinine</th>\n",
       "      <th>serum_sodium</th>\n",
       "      <th>sex</th>\n",
       "      <th>smoking</th>\n",
       "      <th>time</th>\n",
       "      <th>DEATH_EVENT</th>\n",
       "    </tr>\n",
       "  </thead>\n",
       "  <tbody>\n",
       "    <tr>\n",
       "      <th>0</th>\n",
       "      <td>75</td>\n",
       "      <td>0</td>\n",
       "      <td>582</td>\n",
       "      <td>0</td>\n",
       "      <td>20</td>\n",
       "      <td>1</td>\n",
       "      <td>265000.00</td>\n",
       "      <td>1.9</td>\n",
       "      <td>130</td>\n",
       "      <td>1</td>\n",
       "      <td>0</td>\n",
       "      <td>4</td>\n",
       "      <td>1</td>\n",
       "    </tr>\n",
       "    <tr>\n",
       "      <th>1</th>\n",
       "      <td>55</td>\n",
       "      <td>0</td>\n",
       "      <td>7861</td>\n",
       "      <td>0</td>\n",
       "      <td>38</td>\n",
       "      <td>0</td>\n",
       "      <td>263358.03</td>\n",
       "      <td>1.1</td>\n",
       "      <td>136</td>\n",
       "      <td>1</td>\n",
       "      <td>0</td>\n",
       "      <td>6</td>\n",
       "      <td>1</td>\n",
       "    </tr>\n",
       "    <tr>\n",
       "      <th>2</th>\n",
       "      <td>65</td>\n",
       "      <td>0</td>\n",
       "      <td>146</td>\n",
       "      <td>0</td>\n",
       "      <td>20</td>\n",
       "      <td>0</td>\n",
       "      <td>162000.00</td>\n",
       "      <td>1.3</td>\n",
       "      <td>129</td>\n",
       "      <td>1</td>\n",
       "      <td>1</td>\n",
       "      <td>7</td>\n",
       "      <td>1</td>\n",
       "    </tr>\n",
       "    <tr>\n",
       "      <th>3</th>\n",
       "      <td>50</td>\n",
       "      <td>1</td>\n",
       "      <td>111</td>\n",
       "      <td>0</td>\n",
       "      <td>20</td>\n",
       "      <td>0</td>\n",
       "      <td>210000.00</td>\n",
       "      <td>1.9</td>\n",
       "      <td>137</td>\n",
       "      <td>1</td>\n",
       "      <td>0</td>\n",
       "      <td>7</td>\n",
       "      <td>1</td>\n",
       "    </tr>\n",
       "    <tr>\n",
       "      <th>4</th>\n",
       "      <td>65</td>\n",
       "      <td>1</td>\n",
       "      <td>160</td>\n",
       "      <td>1</td>\n",
       "      <td>20</td>\n",
       "      <td>0</td>\n",
       "      <td>327000.00</td>\n",
       "      <td>2.7</td>\n",
       "      <td>116</td>\n",
       "      <td>0</td>\n",
       "      <td>0</td>\n",
       "      <td>8</td>\n",
       "      <td>1</td>\n",
       "    </tr>\n",
       "  </tbody>\n",
       "</table>\n",
       "</div>"
      ],
      "text/plain": [
       "   age  anaemia  creatinine_phosphokinase  diabetes  ejection_fraction  \\\n",
       "0   75        0                       582         0                 20   \n",
       "1   55        0                      7861         0                 38   \n",
       "2   65        0                       146         0                 20   \n",
       "3   50        1                       111         0                 20   \n",
       "4   65        1                       160         1                 20   \n",
       "\n",
       "   high_blood_pressure  platelets  serum_creatinine  serum_sodium  sex  \\\n",
       "0                    1  265000.00               1.9           130    1   \n",
       "1                    0  263358.03               1.1           136    1   \n",
       "2                    0  162000.00               1.3           129    1   \n",
       "3                    0  210000.00               1.9           137    1   \n",
       "4                    0  327000.00               2.7           116    0   \n",
       "\n",
       "   smoking  time  DEATH_EVENT  \n",
       "0        0     4            1  \n",
       "1        0     6            1  \n",
       "2        1     7            1  \n",
       "3        0     7            1  \n",
       "4        0     8            1  "
      ]
     },
     "execution_count": 8,
     "metadata": {},
     "output_type": "execute_result"
    }
   ],
   "source": [
    "#cleaned data loading\n",
    "data = pd.read_csv('cleaned_data.csv')\n",
    "data.head()"
   ]
  },
  {
   "cell_type": "code",
   "execution_count": 10,
   "id": "9bea1354-3bc1-4f43-ba6d-3ec8789d88bb",
   "metadata": {},
   "outputs": [],
   "source": [
    "X = data.iloc[:,:-1]\n",
    "y = data.iloc[:,-1]"
   ]
  },
  {
   "cell_type": "code",
   "execution_count": 12,
   "id": "36695d84-95de-4f4a-8480-3f02d46588c9",
   "metadata": {},
   "outputs": [],
   "source": [
    "#train test split the data\n",
    "from sklearn.model_selection import train_test_split\n",
    "\n",
    "X_train , X_test , y_train , y_test = train_test_split(X , y , random_state = 12 , train_size = 0.8)"
   ]
  },
  {
   "cell_type": "markdown",
   "id": "4a55ca91-f0a3-4b2f-a069-a52906f464ba",
   "metadata": {},
   "source": [
    "**BASELINE MODEL**"
   ]
  },
  {
   "cell_type": "code",
   "execution_count": 23,
   "id": "89c8f4d5-1818-4ac0-8f07-d45d7eef8332",
   "metadata": {},
   "outputs": [
    {
     "name": "stdout",
     "output_type": "stream",
     "text": [
      "Train accuracy :  1.0\n",
      "Test accuracy :  0.8833333333333333\n",
      "CV Score :  0.8410460992907801\n"
     ]
    }
   ],
   "source": [
    "from sklearn.ensemble import RandomForestClassifier\n",
    "from sklearn.metrics import accuracy_score\n",
    "from sklearn.model_selection import cross_val_score\n",
    "RF_model = RandomForestClassifier()\n",
    "RF_model.fit(X_train , y_train)\n",
    "\n",
    "#Train Accuracy\n",
    "Xtrain_pred = RF_model.predict(X_train)\n",
    "print(\"Train accuracy : \" , accuracy_score(y_train ,Xtrain_pred))\n",
    "\n",
    "#Test Accuracy\n",
    "Xtest_pred = RF_model.predict(X_test)\n",
    "print(\"Test accuracy : \" , accuracy_score(y_test ,Xtest_pred))\n",
    "\n",
    "#CV Score\n",
    "print(\"CV Score : \" , cross_val_score(RF_model , X_train , y_train , cv = 5 , scoring = 'accuracy').mean())"
   ]
  },
  {
   "cell_type": "markdown",
   "id": "2d2f4a9e-1e5a-4de4-916a-39e3a44912a5",
   "metadata": {},
   "source": [
    "**Fine Tuning Hyper parameters**"
   ]
  },
  {
   "cell_type": "code",
   "execution_count": 138,
   "id": "96d46413-5e76-4e29-98ef-08eb0be06a24",
   "metadata": {},
   "outputs": [
    {
     "data": {
      "text/plain": [
       "{'n_estimators': 98}"
      ]
     },
     "execution_count": 138,
     "metadata": {},
     "output_type": "execute_result"
    }
   ],
   "source": [
    "from sklearn.model_selection import GridSearchCV\n",
    "\n",
    "estimator = RandomForestClassifier(random_state = 0)\n",
    "params_grid = {'n_estimators' : list(range(1,101))}\n",
    "\n",
    "fine_model = GridSearchCV(estimator , params_grid , cv = 5 , scoring = 'accuracy')\n",
    "fine_model.fit(X_train , y_train)\n",
    "\n",
    "fine_model.best_params_"
   ]
  },
  {
   "cell_type": "code",
   "execution_count": 130,
   "id": "ee3e19db-3f28-4532-aba8-61a54761008d",
   "metadata": {},
   "outputs": [
    {
     "data": {
      "text/plain": [
       "array([0.11257136, 0.01626174, 0.09302001, 0.01359768, 0.11909618,\n",
       "       0.01797102, 0.07746581, 0.14357751, 0.08663459, 0.0130415 ,\n",
       "       0.01408574, 0.29267687])"
      ]
     },
     "execution_count": 130,
     "metadata": {},
     "output_type": "execute_result"
    }
   ],
   "source": [
    "fine_model.best_estimator_.feature_importances_"
   ]
  },
  {
   "cell_type": "code",
   "execution_count": 140,
   "id": "b5013bf1-d355-4ad0-8b78-e5fb3205c87b",
   "metadata": {},
   "outputs": [
    {
     "name": "stdout",
     "output_type": "stream",
     "text": [
      "Train accuracy :  1.0\n",
      "Test accuracy :  0.8833333333333333\n",
      "CV Score :  0.8453900709219859\n"
     ]
    }
   ],
   "source": [
    "RF_model = RandomForestClassifier(n_estimators = 98, random_state=0)\n",
    "RF_model.fit(X_train , y_train)\n",
    "\n",
    "#Train Accuracy\n",
    "Xtrain_pred = RF_model.predict(X_train)\n",
    "print(\"Train accuracy : \" , accuracy_score(y_train ,Xtrain_pred))\n",
    "\n",
    "#Test Accuracy\n",
    "Xtest_pred = RF_model.predict(X_test)\n",
    "print(\"Test accuracy : \" , accuracy_score(y_test ,Xtest_pred))\n",
    "\n",
    "#CV Score\n",
    "print(\"CV Score : \" , cross_val_score(RF_model , X_train , y_train , cv = 5 , scoring = 'accuracy').mean())"
   ]
  },
  {
   "cell_type": "code",
   "execution_count": null,
   "id": "dd6493b2-3a26-4859-903f-c837d6a79c4b",
   "metadata": {},
   "outputs": [],
   "source": []
  }
 ],
 "metadata": {
  "kernelspec": {
   "display_name": "Python 3 (ipykernel)",
   "language": "python",
   "name": "python3"
  },
  "language_info": {
   "codemirror_mode": {
    "name": "ipython",
    "version": 3
   },
   "file_extension": ".py",
   "mimetype": "text/x-python",
   "name": "python",
   "nbconvert_exporter": "python",
   "pygments_lexer": "ipython3",
   "version": "3.12.4"
  }
 },
 "nbformat": 4,
 "nbformat_minor": 5
}
